{
 "cells": [
  {
   "cell_type": "markdown",
   "metadata": {},
   "source": [
    "# PHASE 2 PROJECT\n",
    "ANN MAUREEN WANGUI NGINA"
   ]
  },
  {
   "cell_type": "markdown",
   "metadata": {},
   "source": [
    "An Overview of the dataset\n",
    "\n",
    "King County is located in the state of Washington in the United States. There were 2,269,675 people residing there as of the 2020 census, making it the 13th most populous county in the US and the most populous county in Washington.\n",
    "\n",
    "One of the dataset's most noteworthy discoveries is that King County has a very large wealth gap, both within the county and in comparison to the state and national standards. 10% of the county's residents are poor, despite the fact that some of the richest people in the world live there. The average household income in Seattle, which is part of King County, is 89,675 dollars, or 49% more than the national average. The region's thriving tech sector is perhaps a contributing factor in this. Homes with prices ranging from 78,000 dollars to over 7 million dollars are included in the dataset."
   ]
  },
  {
   "cell_type": "code",
   "execution_count": 75,
   "metadata": {},
   "outputs": [],
   "source": [
    "#Importing all the necessary packages to use in the project\n",
    "import pandas as pd\n",
    "import numpy as np\n",
    "import matplotlib.pyplot as plt\n",
    "%matplotlib inline\n",
    "import seaborn as sns\n",
    "from statsmodels.formula.api import ols\n",
    "import statsmodels.api as sm"
   ]
  },
  {
   "cell_type": "code",
   "execution_count": 76,
   "metadata": {},
   "outputs": [
    {
     "data": {
      "text/html": [
       "<div>\n",
       "<style scoped>\n",
       "    .dataframe tbody tr th:only-of-type {\n",
       "        vertical-align: middle;\n",
       "    }\n",
       "\n",
       "    .dataframe tbody tr th {\n",
       "        vertical-align: top;\n",
       "    }\n",
       "\n",
       "    .dataframe thead th {\n",
       "        text-align: right;\n",
       "    }\n",
       "</style>\n",
       "<table border=\"1\" class=\"dataframe\">\n",
       "  <thead>\n",
       "    <tr style=\"text-align: right;\">\n",
       "      <th></th>\n",
       "      <th>id</th>\n",
       "      <th>date</th>\n",
       "      <th>price</th>\n",
       "      <th>bedrooms</th>\n",
       "      <th>bathrooms</th>\n",
       "      <th>sqft_living</th>\n",
       "      <th>sqft_lot</th>\n",
       "      <th>floors</th>\n",
       "      <th>waterfront</th>\n",
       "      <th>view</th>\n",
       "      <th>...</th>\n",
       "      <th>grade</th>\n",
       "      <th>sqft_above</th>\n",
       "      <th>sqft_basement</th>\n",
       "      <th>yr_built</th>\n",
       "      <th>yr_renovated</th>\n",
       "      <th>zipcode</th>\n",
       "      <th>lat</th>\n",
       "      <th>long</th>\n",
       "      <th>sqft_living15</th>\n",
       "      <th>sqft_lot15</th>\n",
       "    </tr>\n",
       "  </thead>\n",
       "  <tbody>\n",
       "    <tr>\n",
       "      <th>0</th>\n",
       "      <td>7129300520</td>\n",
       "      <td>10/13/2014</td>\n",
       "      <td>221900.0</td>\n",
       "      <td>3</td>\n",
       "      <td>1.00</td>\n",
       "      <td>1180</td>\n",
       "      <td>5650</td>\n",
       "      <td>1.0</td>\n",
       "      <td>NaN</td>\n",
       "      <td>0.0</td>\n",
       "      <td>...</td>\n",
       "      <td>7</td>\n",
       "      <td>1180</td>\n",
       "      <td>0.0</td>\n",
       "      <td>1955</td>\n",
       "      <td>0.0</td>\n",
       "      <td>98178</td>\n",
       "      <td>47.5112</td>\n",
       "      <td>-122.257</td>\n",
       "      <td>1340</td>\n",
       "      <td>5650</td>\n",
       "    </tr>\n",
       "    <tr>\n",
       "      <th>1</th>\n",
       "      <td>6414100192</td>\n",
       "      <td>12/9/2014</td>\n",
       "      <td>538000.0</td>\n",
       "      <td>3</td>\n",
       "      <td>2.25</td>\n",
       "      <td>2570</td>\n",
       "      <td>7242</td>\n",
       "      <td>2.0</td>\n",
       "      <td>0.0</td>\n",
       "      <td>0.0</td>\n",
       "      <td>...</td>\n",
       "      <td>7</td>\n",
       "      <td>2170</td>\n",
       "      <td>400.0</td>\n",
       "      <td>1951</td>\n",
       "      <td>1991.0</td>\n",
       "      <td>98125</td>\n",
       "      <td>47.7210</td>\n",
       "      <td>-122.319</td>\n",
       "      <td>1690</td>\n",
       "      <td>7639</td>\n",
       "    </tr>\n",
       "    <tr>\n",
       "      <th>2</th>\n",
       "      <td>5631500400</td>\n",
       "      <td>2/25/2015</td>\n",
       "      <td>180000.0</td>\n",
       "      <td>2</td>\n",
       "      <td>1.00</td>\n",
       "      <td>770</td>\n",
       "      <td>10000</td>\n",
       "      <td>1.0</td>\n",
       "      <td>0.0</td>\n",
       "      <td>0.0</td>\n",
       "      <td>...</td>\n",
       "      <td>6</td>\n",
       "      <td>770</td>\n",
       "      <td>0.0</td>\n",
       "      <td>1933</td>\n",
       "      <td>NaN</td>\n",
       "      <td>98028</td>\n",
       "      <td>47.7379</td>\n",
       "      <td>-122.233</td>\n",
       "      <td>2720</td>\n",
       "      <td>8062</td>\n",
       "    </tr>\n",
       "    <tr>\n",
       "      <th>3</th>\n",
       "      <td>2487200875</td>\n",
       "      <td>12/9/2014</td>\n",
       "      <td>604000.0</td>\n",
       "      <td>4</td>\n",
       "      <td>3.00</td>\n",
       "      <td>1960</td>\n",
       "      <td>5000</td>\n",
       "      <td>1.0</td>\n",
       "      <td>0.0</td>\n",
       "      <td>0.0</td>\n",
       "      <td>...</td>\n",
       "      <td>7</td>\n",
       "      <td>1050</td>\n",
       "      <td>910.0</td>\n",
       "      <td>1965</td>\n",
       "      <td>0.0</td>\n",
       "      <td>98136</td>\n",
       "      <td>47.5208</td>\n",
       "      <td>-122.393</td>\n",
       "      <td>1360</td>\n",
       "      <td>5000</td>\n",
       "    </tr>\n",
       "    <tr>\n",
       "      <th>4</th>\n",
       "      <td>1954400510</td>\n",
       "      <td>2/18/2015</td>\n",
       "      <td>510000.0</td>\n",
       "      <td>3</td>\n",
       "      <td>2.00</td>\n",
       "      <td>1680</td>\n",
       "      <td>8080</td>\n",
       "      <td>1.0</td>\n",
       "      <td>0.0</td>\n",
       "      <td>0.0</td>\n",
       "      <td>...</td>\n",
       "      <td>8</td>\n",
       "      <td>1680</td>\n",
       "      <td>0.0</td>\n",
       "      <td>1987</td>\n",
       "      <td>0.0</td>\n",
       "      <td>98074</td>\n",
       "      <td>47.6168</td>\n",
       "      <td>-122.045</td>\n",
       "      <td>1800</td>\n",
       "      <td>7503</td>\n",
       "    </tr>\n",
       "  </tbody>\n",
       "</table>\n",
       "<p>5 rows × 21 columns</p>\n",
       "</div>"
      ],
      "text/plain": [
       "           id        date     price  bedrooms  bathrooms  sqft_living  \\\n",
       "0  7129300520  10/13/2014  221900.0         3       1.00         1180   \n",
       "1  6414100192   12/9/2014  538000.0         3       2.25         2570   \n",
       "2  5631500400   2/25/2015  180000.0         2       1.00          770   \n",
       "3  2487200875   12/9/2014  604000.0         4       3.00         1960   \n",
       "4  1954400510   2/18/2015  510000.0         3       2.00         1680   \n",
       "\n",
       "   sqft_lot  floors  waterfront  view  ...  grade  sqft_above  sqft_basement  \\\n",
       "0      5650     1.0         NaN   0.0  ...      7        1180            0.0   \n",
       "1      7242     2.0         0.0   0.0  ...      7        2170          400.0   \n",
       "2     10000     1.0         0.0   0.0  ...      6         770            0.0   \n",
       "3      5000     1.0         0.0   0.0  ...      7        1050          910.0   \n",
       "4      8080     1.0         0.0   0.0  ...      8        1680            0.0   \n",
       "\n",
       "  yr_built  yr_renovated  zipcode      lat     long  sqft_living15  sqft_lot15  \n",
       "0     1955           0.0    98178  47.5112 -122.257           1340        5650  \n",
       "1     1951        1991.0    98125  47.7210 -122.319           1690        7639  \n",
       "2     1933           NaN    98028  47.7379 -122.233           2720        8062  \n",
       "3     1965           0.0    98136  47.5208 -122.393           1360        5000  \n",
       "4     1987           0.0    98074  47.6168 -122.045           1800        7503  \n",
       "\n",
       "[5 rows x 21 columns]"
      ]
     },
     "execution_count": 76,
     "metadata": {},
     "output_type": "execute_result"
    }
   ],
   "source": [
    "#Loading the dataset that will be used for this project\n",
    "data = pd.read_csv(\"kc_house_data.csv\")\n",
    "data.head()"
   ]
  },
  {
   "cell_type": "code",
   "execution_count": 77,
   "metadata": {},
   "outputs": [
    {
     "data": {
      "text/html": [
       "<div>\n",
       "<style scoped>\n",
       "    .dataframe tbody tr th:only-of-type {\n",
       "        vertical-align: middle;\n",
       "    }\n",
       "\n",
       "    .dataframe tbody tr th {\n",
       "        vertical-align: top;\n",
       "    }\n",
       "\n",
       "    .dataframe thead th {\n",
       "        text-align: right;\n",
       "    }\n",
       "</style>\n",
       "<table border=\"1\" class=\"dataframe\">\n",
       "  <thead>\n",
       "    <tr style=\"text-align: right;\">\n",
       "      <th></th>\n",
       "      <th>id</th>\n",
       "      <th>price</th>\n",
       "      <th>bedrooms</th>\n",
       "      <th>bathrooms</th>\n",
       "      <th>sqft_living</th>\n",
       "      <th>sqft_lot</th>\n",
       "      <th>floors</th>\n",
       "      <th>waterfront</th>\n",
       "      <th>condition</th>\n",
       "      <th>grade</th>\n",
       "      <th>yr_built</th>\n",
       "    </tr>\n",
       "  </thead>\n",
       "  <tbody>\n",
       "    <tr>\n",
       "      <th>0</th>\n",
       "      <td>7129300520</td>\n",
       "      <td>221900.0</td>\n",
       "      <td>3</td>\n",
       "      <td>1.00</td>\n",
       "      <td>1180</td>\n",
       "      <td>5650</td>\n",
       "      <td>1.0</td>\n",
       "      <td>NaN</td>\n",
       "      <td>3</td>\n",
       "      <td>7</td>\n",
       "      <td>1955</td>\n",
       "    </tr>\n",
       "    <tr>\n",
       "      <th>1</th>\n",
       "      <td>6414100192</td>\n",
       "      <td>538000.0</td>\n",
       "      <td>3</td>\n",
       "      <td>2.25</td>\n",
       "      <td>2570</td>\n",
       "      <td>7242</td>\n",
       "      <td>2.0</td>\n",
       "      <td>0.0</td>\n",
       "      <td>3</td>\n",
       "      <td>7</td>\n",
       "      <td>1951</td>\n",
       "    </tr>\n",
       "    <tr>\n",
       "      <th>2</th>\n",
       "      <td>5631500400</td>\n",
       "      <td>180000.0</td>\n",
       "      <td>2</td>\n",
       "      <td>1.00</td>\n",
       "      <td>770</td>\n",
       "      <td>10000</td>\n",
       "      <td>1.0</td>\n",
       "      <td>0.0</td>\n",
       "      <td>3</td>\n",
       "      <td>6</td>\n",
       "      <td>1933</td>\n",
       "    </tr>\n",
       "    <tr>\n",
       "      <th>3</th>\n",
       "      <td>2487200875</td>\n",
       "      <td>604000.0</td>\n",
       "      <td>4</td>\n",
       "      <td>3.00</td>\n",
       "      <td>1960</td>\n",
       "      <td>5000</td>\n",
       "      <td>1.0</td>\n",
       "      <td>0.0</td>\n",
       "      <td>5</td>\n",
       "      <td>7</td>\n",
       "      <td>1965</td>\n",
       "    </tr>\n",
       "    <tr>\n",
       "      <th>4</th>\n",
       "      <td>1954400510</td>\n",
       "      <td>510000.0</td>\n",
       "      <td>3</td>\n",
       "      <td>2.00</td>\n",
       "      <td>1680</td>\n",
       "      <td>8080</td>\n",
       "      <td>1.0</td>\n",
       "      <td>0.0</td>\n",
       "      <td>3</td>\n",
       "      <td>8</td>\n",
       "      <td>1987</td>\n",
       "    </tr>\n",
       "  </tbody>\n",
       "</table>\n",
       "</div>"
      ],
      "text/plain": [
       "           id     price  bedrooms  bathrooms  sqft_living  sqft_lot  floors  \\\n",
       "0  7129300520  221900.0         3       1.00         1180      5650     1.0   \n",
       "1  6414100192  538000.0         3       2.25         2570      7242     2.0   \n",
       "2  5631500400  180000.0         2       1.00          770     10000     1.0   \n",
       "3  2487200875  604000.0         4       3.00         1960      5000     1.0   \n",
       "4  1954400510  510000.0         3       2.00         1680      8080     1.0   \n",
       "\n",
       "   waterfront  condition  grade  yr_built  \n",
       "0         NaN          3      7      1955  \n",
       "1         0.0          3      7      1951  \n",
       "2         0.0          3      6      1933  \n",
       "3         0.0          5      7      1965  \n",
       "4         0.0          3      8      1987  "
      ]
     },
     "execution_count": 77,
     "metadata": {},
     "output_type": "execute_result"
    }
   ],
   "source": [
    "#dropping all the columns that we will not use in the project. \n",
    "#(followed the instructions on the suggesion of the columns to drop)\n",
    "data.drop(['date', 'view', 'sqft_above', 'sqft_basement', 'yr_renovated', 'zipcode', 'lat', 'long', \n",
    "           'sqft_living15', 'sqft_lot15'], inplace = True, axis = 1)\n",
    "data.head()"
   ]
  },
  {
   "cell_type": "markdown",
   "metadata": {},
   "source": [
    "We now get the subset of the data that we will use for the project"
   ]
  },
  {
   "cell_type": "code",
   "execution_count": 78,
   "metadata": {},
   "outputs": [
    {
     "name": "stdout",
     "output_type": "stream",
     "text": [
      "<class 'pandas.core.frame.DataFrame'>\n",
      "RangeIndex: 21597 entries, 0 to 21596\n",
      "Data columns (total 11 columns):\n",
      " #   Column       Non-Null Count  Dtype  \n",
      "---  ------       --------------  -----  \n",
      " 0   id           21597 non-null  int64  \n",
      " 1   price        21597 non-null  float64\n",
      " 2   bedrooms     21597 non-null  int64  \n",
      " 3   bathrooms    21597 non-null  float64\n",
      " 4   sqft_living  21597 non-null  int64  \n",
      " 5   sqft_lot     21597 non-null  int64  \n",
      " 6   floors       21597 non-null  float64\n",
      " 7   waterfront   19221 non-null  float64\n",
      " 8   condition    21597 non-null  int64  \n",
      " 9   grade        21597 non-null  int64  \n",
      " 10  yr_built     21597 non-null  int64  \n",
      "dtypes: float64(4), int64(7)\n",
      "memory usage: 1.8 MB\n"
     ]
    }
   ],
   "source": [
    "#Getting to understand our dataset, by identifying the different columns we have, the data type and the presence of null values\n",
    "data.info()"
   ]
  },
  {
   "cell_type": "code",
   "execution_count": 79,
   "metadata": {},
   "outputs": [
    {
     "data": {
      "text/html": [
       "<div>\n",
       "<style scoped>\n",
       "    .dataframe tbody tr th:only-of-type {\n",
       "        vertical-align: middle;\n",
       "    }\n",
       "\n",
       "    .dataframe tbody tr th {\n",
       "        vertical-align: top;\n",
       "    }\n",
       "\n",
       "    .dataframe thead th {\n",
       "        text-align: right;\n",
       "    }\n",
       "</style>\n",
       "<table border=\"1\" class=\"dataframe\">\n",
       "  <thead>\n",
       "    <tr style=\"text-align: right;\">\n",
       "      <th></th>\n",
       "      <th>id</th>\n",
       "      <th>price</th>\n",
       "      <th>bedrooms</th>\n",
       "      <th>bathrooms</th>\n",
       "      <th>sqft_living</th>\n",
       "      <th>sqft_lot</th>\n",
       "      <th>floors</th>\n",
       "      <th>waterfront</th>\n",
       "      <th>condition</th>\n",
       "      <th>grade</th>\n",
       "      <th>yr_built</th>\n",
       "    </tr>\n",
       "  </thead>\n",
       "  <tbody>\n",
       "    <tr>\n",
       "      <th>count</th>\n",
       "      <td>2.159700e+04</td>\n",
       "      <td>2.159700e+04</td>\n",
       "      <td>21597.000000</td>\n",
       "      <td>21597.000000</td>\n",
       "      <td>21597.000000</td>\n",
       "      <td>2.159700e+04</td>\n",
       "      <td>21597.000000</td>\n",
       "      <td>19221.000000</td>\n",
       "      <td>21597.000000</td>\n",
       "      <td>21597.000000</td>\n",
       "      <td>21597.000000</td>\n",
       "    </tr>\n",
       "    <tr>\n",
       "      <th>mean</th>\n",
       "      <td>4.580474e+09</td>\n",
       "      <td>5.402966e+05</td>\n",
       "      <td>3.373200</td>\n",
       "      <td>2.115826</td>\n",
       "      <td>2080.321850</td>\n",
       "      <td>1.509941e+04</td>\n",
       "      <td>1.494096</td>\n",
       "      <td>0.007596</td>\n",
       "      <td>3.409825</td>\n",
       "      <td>7.657915</td>\n",
       "      <td>1970.999676</td>\n",
       "    </tr>\n",
       "    <tr>\n",
       "      <th>std</th>\n",
       "      <td>2.876736e+09</td>\n",
       "      <td>3.673681e+05</td>\n",
       "      <td>0.926299</td>\n",
       "      <td>0.768984</td>\n",
       "      <td>918.106125</td>\n",
       "      <td>4.141264e+04</td>\n",
       "      <td>0.539683</td>\n",
       "      <td>0.086825</td>\n",
       "      <td>0.650546</td>\n",
       "      <td>1.173200</td>\n",
       "      <td>29.375234</td>\n",
       "    </tr>\n",
       "    <tr>\n",
       "      <th>min</th>\n",
       "      <td>1.000102e+06</td>\n",
       "      <td>7.800000e+04</td>\n",
       "      <td>1.000000</td>\n",
       "      <td>0.500000</td>\n",
       "      <td>370.000000</td>\n",
       "      <td>5.200000e+02</td>\n",
       "      <td>1.000000</td>\n",
       "      <td>0.000000</td>\n",
       "      <td>1.000000</td>\n",
       "      <td>3.000000</td>\n",
       "      <td>1900.000000</td>\n",
       "    </tr>\n",
       "    <tr>\n",
       "      <th>25%</th>\n",
       "      <td>2.123049e+09</td>\n",
       "      <td>3.220000e+05</td>\n",
       "      <td>3.000000</td>\n",
       "      <td>1.750000</td>\n",
       "      <td>1430.000000</td>\n",
       "      <td>5.040000e+03</td>\n",
       "      <td>1.000000</td>\n",
       "      <td>0.000000</td>\n",
       "      <td>3.000000</td>\n",
       "      <td>7.000000</td>\n",
       "      <td>1951.000000</td>\n",
       "    </tr>\n",
       "    <tr>\n",
       "      <th>50%</th>\n",
       "      <td>3.904930e+09</td>\n",
       "      <td>4.500000e+05</td>\n",
       "      <td>3.000000</td>\n",
       "      <td>2.250000</td>\n",
       "      <td>1910.000000</td>\n",
       "      <td>7.618000e+03</td>\n",
       "      <td>1.500000</td>\n",
       "      <td>0.000000</td>\n",
       "      <td>3.000000</td>\n",
       "      <td>7.000000</td>\n",
       "      <td>1975.000000</td>\n",
       "    </tr>\n",
       "    <tr>\n",
       "      <th>75%</th>\n",
       "      <td>7.308900e+09</td>\n",
       "      <td>6.450000e+05</td>\n",
       "      <td>4.000000</td>\n",
       "      <td>2.500000</td>\n",
       "      <td>2550.000000</td>\n",
       "      <td>1.068500e+04</td>\n",
       "      <td>2.000000</td>\n",
       "      <td>0.000000</td>\n",
       "      <td>4.000000</td>\n",
       "      <td>8.000000</td>\n",
       "      <td>1997.000000</td>\n",
       "    </tr>\n",
       "    <tr>\n",
       "      <th>max</th>\n",
       "      <td>9.900000e+09</td>\n",
       "      <td>7.700000e+06</td>\n",
       "      <td>33.000000</td>\n",
       "      <td>8.000000</td>\n",
       "      <td>13540.000000</td>\n",
       "      <td>1.651359e+06</td>\n",
       "      <td>3.500000</td>\n",
       "      <td>1.000000</td>\n",
       "      <td>5.000000</td>\n",
       "      <td>13.000000</td>\n",
       "      <td>2015.000000</td>\n",
       "    </tr>\n",
       "  </tbody>\n",
       "</table>\n",
       "</div>"
      ],
      "text/plain": [
       "                 id         price      bedrooms     bathrooms   sqft_living  \\\n",
       "count  2.159700e+04  2.159700e+04  21597.000000  21597.000000  21597.000000   \n",
       "mean   4.580474e+09  5.402966e+05      3.373200      2.115826   2080.321850   \n",
       "std    2.876736e+09  3.673681e+05      0.926299      0.768984    918.106125   \n",
       "min    1.000102e+06  7.800000e+04      1.000000      0.500000    370.000000   \n",
       "25%    2.123049e+09  3.220000e+05      3.000000      1.750000   1430.000000   \n",
       "50%    3.904930e+09  4.500000e+05      3.000000      2.250000   1910.000000   \n",
       "75%    7.308900e+09  6.450000e+05      4.000000      2.500000   2550.000000   \n",
       "max    9.900000e+09  7.700000e+06     33.000000      8.000000  13540.000000   \n",
       "\n",
       "           sqft_lot        floors    waterfront     condition         grade  \\\n",
       "count  2.159700e+04  21597.000000  19221.000000  21597.000000  21597.000000   \n",
       "mean   1.509941e+04      1.494096      0.007596      3.409825      7.657915   \n",
       "std    4.141264e+04      0.539683      0.086825      0.650546      1.173200   \n",
       "min    5.200000e+02      1.000000      0.000000      1.000000      3.000000   \n",
       "25%    5.040000e+03      1.000000      0.000000      3.000000      7.000000   \n",
       "50%    7.618000e+03      1.500000      0.000000      3.000000      7.000000   \n",
       "75%    1.068500e+04      2.000000      0.000000      4.000000      8.000000   \n",
       "max    1.651359e+06      3.500000      1.000000      5.000000     13.000000   \n",
       "\n",
       "           yr_built  \n",
       "count  21597.000000  \n",
       "mean    1970.999676  \n",
       "std       29.375234  \n",
       "min     1900.000000  \n",
       "25%     1951.000000  \n",
       "50%     1975.000000  \n",
       "75%     1997.000000  \n",
       "max     2015.000000  "
      ]
     },
     "execution_count": 79,
     "metadata": {},
     "output_type": "execute_result"
    }
   ],
   "source": [
    "#Getting the summary statistics so as to understand our better in a more comprehensive way\n",
    "data.describe()"
   ]
  },
  {
   "cell_type": "markdown",
   "metadata": {},
   "source": [
    "Some insights from the statistics are we can see that we have homes with 33 bedrooms. The price range as mentioned above ranges from 78000 dollars to 7.8 Million dollars. From the statistics we start getting a feel of the columns that are categorical such as waterfront."
   ]
  },
  {
   "cell_type": "markdown",
   "metadata": {},
   "source": [
    "# Missing Values"
   ]
  },
  {
   "cell_type": "markdown",
   "metadata": {},
   "source": [
    "Missing values occur when someone fails to collect or record a value for a certain variable in a specific observation or made the decision not to do so. Missing values can obstruct several types of analysis, which is why they are an issue.Before performing any quantitative analysis, it is crucial to fill in any missing values so that we may better comprehend what our calculations actually mean."
   ]
  },
  {
   "cell_type": "code",
   "execution_count": 80,
   "metadata": {},
   "outputs": [
    {
     "data": {
      "text/plain": [
       "id                0\n",
       "price             0\n",
       "bedrooms          0\n",
       "bathrooms         0\n",
       "sqft_living       0\n",
       "sqft_lot          0\n",
       "floors            0\n",
       "waterfront     2376\n",
       "condition         0\n",
       "grade             0\n",
       "yr_built          0\n",
       "dtype: int64"
      ]
     },
     "execution_count": 80,
     "metadata": {},
     "output_type": "execute_result"
    }
   ],
   "source": [
    "#Getting the total number of missing values in each and every column\n",
    "data.isna().sum()"
   ]
  },
  {
   "cell_type": "markdown",
   "metadata": {},
   "source": [
    "In my data, the water front column has 19075 missing values. Water front has a value of 0 for no waterfront and a value of 1 for waterfront. Since the mode of Water Front is 0, I'll set all the missing values to 0."
   ]
  },
  {
   "cell_type": "code",
   "execution_count": 81,
   "metadata": {},
   "outputs": [
    {
     "data": {
      "text/plain": [
       "0.0    19075\n",
       "1.0      146\n",
       "Name: waterfront, dtype: int64"
      ]
     },
     "execution_count": 81,
     "metadata": {},
     "output_type": "execute_result"
    }
   ],
   "source": [
    "data['waterfront'].value_counts()"
   ]
  },
  {
   "cell_type": "code",
   "execution_count": 82,
   "metadata": {},
   "outputs": [],
   "source": [
    "data['waterfront'] = data['waterfront'].fillna(0).astype('float64')\n"
   ]
  },
  {
   "cell_type": "markdown",
   "metadata": {},
   "source": [
    "# Exploring the Dataset"
   ]
  },
  {
   "cell_type": "code",
   "execution_count": 9,
   "metadata": {},
   "outputs": [
    {
     "data": {
      "text/plain": [
       "3     9824\n",
       "4     6882\n",
       "2     2760\n",
       "5     1601\n",
       "6      272\n",
       "1      196\n",
       "7       38\n",
       "8       13\n",
       "9        6\n",
       "10       3\n",
       "11       1\n",
       "33       1\n",
       "Name: bedrooms, dtype: int64"
      ]
     },
     "execution_count": 9,
     "metadata": {},
     "output_type": "execute_result"
    }
   ],
   "source": [
    "#Getting the count of the number of bedrooms for the different houses in the dataset\n",
    "data['bedrooms'].value_counts()"
   ]
  },
  {
   "cell_type": "code",
   "execution_count": 10,
   "metadata": {},
   "outputs": [
    {
     "data": {
      "image/png": "[encoded data removed]",
      "text/plain": [
       "<Figure size 432x288 with 1 Axes>"
      ]
     },
     "metadata": {
      "needs_background": "light"
     },
     "output_type": "display_data"
    }
   ],
   "source": [
    "import warnings\n",
    "warnings.filterwarnings(\"ignore\")\n",
    "sns.countplot(data['bedrooms'], order= data['bedrooms'].value_counts().index);"
   ]
  },
  {
   "cell_type": "markdown",
   "metadata": {},
   "source": [
    "From the dataset it is quite evident that most houses in have an average of 3 bedrooms."
   ]
  },
  {
   "cell_type": "code",
   "execution_count": 86,
   "metadata": {},
   "outputs": [
    {
     "data": {
      "image/png": "[encoded data removed]",
      "text/plain": [
       "<Figure size 1080x720 with 1 Axes>"
      ]
     },
     "metadata": {
      "needs_background": "light"
     },
     "output_type": "display_data"
    }
   ],
   "source": [
    "fig,axes=plt.subplots(figsize=(15,10))\n",
    "plt.title(\"house prices by bedrooms\")\n",
    "plt.xlabel('bedrooms')\n",
    "plt.ylabel('house prices')\n",
    "sns.barplot(x='bedrooms',y='price',data=data);"
   ]
  },
  {
   "cell_type": "markdown",
   "metadata": {},
   "source": [
    "The bargraph above proves that the number of bedrooms have an effect on the price but we cannot conclude that the higher the number of bedrooms the higher the price."
   ]
  },
  {
   "cell_type": "code",
   "execution_count": 87,
   "metadata": {},
   "outputs": [
    {
     "data": {
      "image/png": "[encoded data removed]",
      "text/plain": [
       "<Figure size 432x288 with 1 Axes>"
      ]
     },
     "metadata": {
      "needs_background": "light"
     },
     "output_type": "display_data"
    }
   ],
   "source": [
    "#Getting the distribution of sqft_living\n",
    "plt.hist('sqft_living',data=data,bins=5);"
   ]
  },
  {
   "cell_type": "code",
   "execution_count": 88,
   "metadata": {},
   "outputs": [
    {
     "data": {
      "image/png": "[encoded data removed]",
      "text/plain": [
       "<Figure size 1080x720 with 1 Axes>"
      ]
     },
     "metadata": {
      "needs_background": "light"
     },
     "output_type": "display_data"
    }
   ],
   "source": [
    "#Understanding the sqft_living column more by plotting a histogram and kde\n",
    "fig,axes=plt.subplots(nrows=1,ncols=1,figsize=(15,10))\n",
    "sns.distplot(data['sqft_living'],hist=True,kde=True,label='sqft_living',norm_hist=True);"
   ]
  },
  {
   "cell_type": "markdown",
   "metadata": {},
   "source": [
    "The plot above shows that the sqft_living has some positive skewness as the tail on the right is more extended."
   ]
  },
  {
   "cell_type": "code",
   "execution_count": 89,
   "metadata": {},
   "outputs": [
    {
     "data": {
      "image/png": "[encoded data removed]",
      "text/plain": [
       "<Figure size 1080x720 with 2 Axes>"
      ]
     },
     "metadata": {
      "needs_background": "light"
     },
     "output_type": "display_data"
    }
   ],
   "source": [
    "#We now identify the correlation between the different variables that we have using a heatmap\n",
    "def correlation_heatmap(data1):\n",
    "    _,ax=plt.subplots(figsize=(15,10))\n",
    "    colormap=sns.diverging_palette(220,10,as_cmap=True)\n",
    "    sns.heatmap(data1.corr(),annot=True,cmap=colormap)\n",
    "    \n",
    "correlation_heatmap(data)"
   ]
  },
  {
   "cell_type": "markdown",
   "metadata": {},
   "source": [
    "On the heatmap, where we have values in red, this shows that that's where we have high correlations between variables example\n",
    "sqft_living and bathrooms have a correlation of 0.76"
   ]
  },
  {
   "cell_type": "code",
   "execution_count": 90,
   "metadata": {},
   "outputs": [
    {
     "data": {
      "text/html": [
       "<div>\n",
       "<style scoped>\n",
       "    .dataframe tbody tr th:only-of-type {\n",
       "        vertical-align: middle;\n",
       "    }\n",
       "\n",
       "    .dataframe tbody tr th {\n",
       "        vertical-align: top;\n",
       "    }\n",
       "\n",
       "    .dataframe thead th {\n",
       "        text-align: right;\n",
       "    }\n",
       "</style>\n",
       "<table border=\"1\" class=\"dataframe\">\n",
       "  <thead>\n",
       "    <tr style=\"text-align: right;\">\n",
       "      <th></th>\n",
       "      <th>cc</th>\n",
       "    </tr>\n",
       "    <tr>\n",
       "      <th>pairs</th>\n",
       "      <th></th>\n",
       "    </tr>\n",
       "  </thead>\n",
       "  <tbody>\n",
       "    <tr>\n",
       "      <th>(grade, sqft_living)</th>\n",
       "      <td>0.762779</td>\n",
       "    </tr>\n",
       "    <tr>\n",
       "      <th>(sqft_living, bathrooms)</th>\n",
       "      <td>0.755758</td>\n",
       "    </tr>\n",
       "  </tbody>\n",
       "</table>\n",
       "</div>"
      ],
      "text/plain": [
       "                                cc\n",
       "pairs                             \n",
       "(grade, sqft_living)      0.762779\n",
       "(sqft_living, bathrooms)  0.755758"
      ]
     },
     "execution_count": 90,
     "metadata": {},
     "output_type": "execute_result"
    }
   ],
   "source": [
    "#Identifying the highest correlated pair we have in our dataset\n",
    "data1=data.corr().abs().stack().reset_index().sort_values(0, ascending=False)\n",
    "data1['pairs'] = list(zip(data1.level_0, data1.level_1))\n",
    "data1.set_index(['pairs'], inplace = True)\n",
    "data1.drop(columns=['level_1', 'level_0'], inplace = True)\n",
    "data1.columns = ['cc']\n",
    "data1.drop_duplicates(inplace=True)\n",
    "\n",
    "#Because a correlation of 0.70-0.80 and higher is regarded as high, the cut-off of 0.75 is utilized.\n",
    "data1[(data1.cc>.75) & (data1.cc <1)]"
   ]
  },
  {
   "cell_type": "markdown",
   "metadata": {},
   "source": [
    "There are two pairs of features high related with each other. The highest correlation is between sqft living and grade with a correlation of 0.762779, I will go ahead and drop one which is grade, so as to avoid issues brought up by highly correlated features."
   ]
  },
  {
   "cell_type": "code",
   "execution_count": 91,
   "metadata": {},
   "outputs": [
    {
     "data": {
      "text/html": [
       "<div>\n",
       "<style scoped>\n",
       "    .dataframe tbody tr th:only-of-type {\n",
       "        vertical-align: middle;\n",
       "    }\n",
       "\n",
       "    .dataframe tbody tr th {\n",
       "        vertical-align: top;\n",
       "    }\n",
       "\n",
       "    .dataframe thead th {\n",
       "        text-align: right;\n",
       "    }\n",
       "</style>\n",
       "<table border=\"1\" class=\"dataframe\">\n",
       "  <thead>\n",
       "    <tr style=\"text-align: right;\">\n",
       "      <th></th>\n",
       "      <th>id</th>\n",
       "      <th>price</th>\n",
       "      <th>bedrooms</th>\n",
       "      <th>bathrooms</th>\n",
       "      <th>sqft_living</th>\n",
       "      <th>sqft_lot</th>\n",
       "      <th>floors</th>\n",
       "      <th>waterfront</th>\n",
       "      <th>condition</th>\n",
       "      <th>yr_built</th>\n",
       "    </tr>\n",
       "  </thead>\n",
       "  <tbody>\n",
       "    <tr>\n",
       "      <th>0</th>\n",
       "      <td>7129300520</td>\n",
       "      <td>221900.0</td>\n",
       "      <td>3</td>\n",
       "      <td>1.00</td>\n",
       "      <td>1180</td>\n",
       "      <td>5650</td>\n",
       "      <td>1.0</td>\n",
       "      <td>0.0</td>\n",
       "      <td>3</td>\n",
       "      <td>1955</td>\n",
       "    </tr>\n",
       "    <tr>\n",
       "      <th>1</th>\n",
       "      <td>6414100192</td>\n",
       "      <td>538000.0</td>\n",
       "      <td>3</td>\n",
       "      <td>2.25</td>\n",
       "      <td>2570</td>\n",
       "      <td>7242</td>\n",
       "      <td>2.0</td>\n",
       "      <td>0.0</td>\n",
       "      <td>3</td>\n",
       "      <td>1951</td>\n",
       "    </tr>\n",
       "    <tr>\n",
       "      <th>2</th>\n",
       "      <td>5631500400</td>\n",
       "      <td>180000.0</td>\n",
       "      <td>2</td>\n",
       "      <td>1.00</td>\n",
       "      <td>770</td>\n",
       "      <td>10000</td>\n",
       "      <td>1.0</td>\n",
       "      <td>0.0</td>\n",
       "      <td>3</td>\n",
       "      <td>1933</td>\n",
       "    </tr>\n",
       "    <tr>\n",
       "      <th>3</th>\n",
       "      <td>2487200875</td>\n",
       "      <td>604000.0</td>\n",
       "      <td>4</td>\n",
       "      <td>3.00</td>\n",
       "      <td>1960</td>\n",
       "      <td>5000</td>\n",
       "      <td>1.0</td>\n",
       "      <td>0.0</td>\n",
       "      <td>5</td>\n",
       "      <td>1965</td>\n",
       "    </tr>\n",
       "    <tr>\n",
       "      <th>4</th>\n",
       "      <td>1954400510</td>\n",
       "      <td>510000.0</td>\n",
       "      <td>3</td>\n",
       "      <td>2.00</td>\n",
       "      <td>1680</td>\n",
       "      <td>8080</td>\n",
       "      <td>1.0</td>\n",
       "      <td>0.0</td>\n",
       "      <td>3</td>\n",
       "      <td>1987</td>\n",
       "    </tr>\n",
       "  </tbody>\n",
       "</table>\n",
       "</div>"
      ],
      "text/plain": [
       "           id     price  bedrooms  bathrooms  sqft_living  sqft_lot  floors  \\\n",
       "0  7129300520  221900.0         3       1.00         1180      5650     1.0   \n",
       "1  6414100192  538000.0         3       2.25         2570      7242     2.0   \n",
       "2  5631500400  180000.0         2       1.00          770     10000     1.0   \n",
       "3  2487200875  604000.0         4       3.00         1960      5000     1.0   \n",
       "4  1954400510  510000.0         3       2.00         1680      8080     1.0   \n",
       "\n",
       "   waterfront  condition  yr_built  \n",
       "0         0.0          3      1955  \n",
       "1         0.0          3      1951  \n",
       "2         0.0          3      1933  \n",
       "3         0.0          5      1965  \n",
       "4         0.0          3      1987  "
      ]
     },
     "execution_count": 91,
     "metadata": {},
     "output_type": "execute_result"
    }
   ],
   "source": [
    "data.drop(['grade'],axis = 1, inplace = True)\n",
    "data.head()"
   ]
  },
  {
   "cell_type": "markdown",
   "metadata": {},
   "source": [
    "We now go ahead and identify the cateforical variables in our dataset by the help of histograms."
   ]
  },
  {
   "cell_type": "code",
   "execution_count": 92,
   "metadata": {},
   "outputs": [
    {
     "data": {
      "image/png": "[encoded data removed]",
      "text/plain": [
       "<Figure size 1440x1440 with 12 Axes>"
      ]
     },
     "metadata": {
      "needs_background": "light"
     },
     "output_type": "display_data"
    }
   ],
   "source": [
    "#Drawing the histogram for all the variables in the dataset\n",
    "import warnings\n",
    "warnings.filterwarnings('ignore')\n",
    "fig = plt.figure(figsize = (20,20))\n",
    "ax = fig.gca()\n",
    "data.hist(ax = ax);"
   ]
  },
  {
   "cell_type": "markdown",
   "metadata": {},
   "source": [
    "Based on the distribution of various variables using the histogram, we can identify that condition, waterfront and floors are categorical variables.\n",
    "We therefore go ahead and identify the unique values in this variables."
   ]
  },
  {
   "cell_type": "code",
   "execution_count": 93,
   "metadata": {},
   "outputs": [
    {
     "data": {
      "text/plain": [
       "condition     5\n",
       "waterfront    2\n",
       "floors        6\n",
       "dtype: int64"
      ]
     },
     "execution_count": 93,
     "metadata": {},
     "output_type": "execute_result"
    }
   ],
   "source": [
    "#identifying the unique values in this variables\n",
    "data[['condition','waterfront','floors']].nunique()"
   ]
  },
  {
   "cell_type": "markdown",
   "metadata": {},
   "source": [
    "One-hot encoding, sometimes known as \"dummy variables,\" is a different method of categorical variable transformation. The aim is to create a new column for each category and put a 1 or 0 in it. This helps when it comes to modelling the dataset."
   ]
  },
  {
   "cell_type": "code",
   "execution_count": 19,
   "metadata": {},
   "outputs": [
    {
     "data": {
      "text/html": [
       "<div>\n",
       "<style scoped>\n",
       "    .dataframe tbody tr th:only-of-type {\n",
       "        vertical-align: middle;\n",
       "    }\n",
       "\n",
       "    .dataframe tbody tr th {\n",
       "        vertical-align: top;\n",
       "    }\n",
       "\n",
       "    .dataframe thead th {\n",
       "        text-align: right;\n",
       "    }\n",
       "</style>\n",
       "<table border=\"1\" class=\"dataframe\">\n",
       "  <thead>\n",
       "    <tr style=\"text-align: right;\">\n",
       "      <th></th>\n",
       "      <th>id</th>\n",
       "      <th>price</th>\n",
       "      <th>bedrooms</th>\n",
       "      <th>bathrooms</th>\n",
       "      <th>sqft_living</th>\n",
       "      <th>sqft_lot</th>\n",
       "      <th>yr_built</th>\n",
       "      <th>condition_2</th>\n",
       "      <th>condition_3</th>\n",
       "      <th>condition_4</th>\n",
       "      <th>condition_5</th>\n",
       "      <th>waterfront_1.0</th>\n",
       "      <th>floors_1.5</th>\n",
       "      <th>floors_2.0</th>\n",
       "      <th>floors_2.5</th>\n",
       "      <th>floors_3.0</th>\n",
       "      <th>floors_3.5</th>\n",
       "    </tr>\n",
       "  </thead>\n",
       "  <tbody>\n",
       "    <tr>\n",
       "      <th>0</th>\n",
       "      <td>7129300520</td>\n",
       "      <td>221900.0</td>\n",
       "      <td>3</td>\n",
       "      <td>1.00</td>\n",
       "      <td>1180</td>\n",
       "      <td>5650</td>\n",
       "      <td>1955</td>\n",
       "      <td>0</td>\n",
       "      <td>1</td>\n",
       "      <td>0</td>\n",
       "      <td>0</td>\n",
       "      <td>0</td>\n",
       "      <td>0</td>\n",
       "      <td>0</td>\n",
       "      <td>0</td>\n",
       "      <td>0</td>\n",
       "      <td>0</td>\n",
       "    </tr>\n",
       "    <tr>\n",
       "      <th>1</th>\n",
       "      <td>6414100192</td>\n",
       "      <td>538000.0</td>\n",
       "      <td>3</td>\n",
       "      <td>2.25</td>\n",
       "      <td>2570</td>\n",
       "      <td>7242</td>\n",
       "      <td>1951</td>\n",
       "      <td>0</td>\n",
       "      <td>1</td>\n",
       "      <td>0</td>\n",
       "      <td>0</td>\n",
       "      <td>0</td>\n",
       "      <td>0</td>\n",
       "      <td>1</td>\n",
       "      <td>0</td>\n",
       "      <td>0</td>\n",
       "      <td>0</td>\n",
       "    </tr>\n",
       "    <tr>\n",
       "      <th>2</th>\n",
       "      <td>5631500400</td>\n",
       "      <td>180000.0</td>\n",
       "      <td>2</td>\n",
       "      <td>1.00</td>\n",
       "      <td>770</td>\n",
       "      <td>10000</td>\n",
       "      <td>1933</td>\n",
       "      <td>0</td>\n",
       "      <td>1</td>\n",
       "      <td>0</td>\n",
       "      <td>0</td>\n",
       "      <td>0</td>\n",
       "      <td>0</td>\n",
       "      <td>0</td>\n",
       "      <td>0</td>\n",
       "      <td>0</td>\n",
       "      <td>0</td>\n",
       "    </tr>\n",
       "    <tr>\n",
       "      <th>3</th>\n",
       "      <td>2487200875</td>\n",
       "      <td>604000.0</td>\n",
       "      <td>4</td>\n",
       "      <td>3.00</td>\n",
       "      <td>1960</td>\n",
       "      <td>5000</td>\n",
       "      <td>1965</td>\n",
       "      <td>0</td>\n",
       "      <td>0</td>\n",
       "      <td>0</td>\n",
       "      <td>1</td>\n",
       "      <td>0</td>\n",
       "      <td>0</td>\n",
       "      <td>0</td>\n",
       "      <td>0</td>\n",
       "      <td>0</td>\n",
       "      <td>0</td>\n",
       "    </tr>\n",
       "    <tr>\n",
       "      <th>4</th>\n",
       "      <td>1954400510</td>\n",
       "      <td>510000.0</td>\n",
       "      <td>3</td>\n",
       "      <td>2.00</td>\n",
       "      <td>1680</td>\n",
       "      <td>8080</td>\n",
       "      <td>1987</td>\n",
       "      <td>0</td>\n",
       "      <td>1</td>\n",
       "      <td>0</td>\n",
       "      <td>0</td>\n",
       "      <td>0</td>\n",
       "      <td>0</td>\n",
       "      <td>0</td>\n",
       "      <td>0</td>\n",
       "      <td>0</td>\n",
       "      <td>0</td>\n",
       "    </tr>\n",
       "  </tbody>\n",
       "</table>\n",
       "</div>"
      ],
      "text/plain": [
       "           id     price  bedrooms  bathrooms  sqft_living  sqft_lot  yr_built  \\\n",
       "0  7129300520  221900.0         3       1.00         1180      5650      1955   \n",
       "1  6414100192  538000.0         3       2.25         2570      7242      1951   \n",
       "2  5631500400  180000.0         2       1.00          770     10000      1933   \n",
       "3  2487200875  604000.0         4       3.00         1960      5000      1965   \n",
       "4  1954400510  510000.0         3       2.00         1680      8080      1987   \n",
       "\n",
       "   condition_2  condition_3  condition_4  condition_5  waterfront_1.0  \\\n",
       "0            0            1            0            0               0   \n",
       "1            0            1            0            0               0   \n",
       "2            0            1            0            0               0   \n",
       "3            0            0            0            1               0   \n",
       "4            0            1            0            0               0   \n",
       "\n",
       "   floors_1.5  floors_2.0  floors_2.5  floors_3.0  floors_3.5  \n",
       "0           0           0           0           0           0  \n",
       "1           0           1           0           0           0  \n",
       "2           0           0           0           0           0  \n",
       "3           0           0           0           0           0  \n",
       "4           0           0           0           0           0  "
      ]
     },
     "execution_count": 19,
     "metadata": {},
     "output_type": "execute_result"
    }
   ],
   "source": [
    "#creating dummies for the categorical variables\n",
    "condition_dummies = pd.get_dummies(data['condition'], prefix='condition', drop_first=True)\n",
    "waterfront_dummies = pd.get_dummies(data['waterfront'], prefix='waterfront', drop_first=True)\n",
    "floors_dummies = pd.get_dummies(data['floors'], prefix='floors', drop_first=True)\n",
    "\n",
    "data = data.drop(['waterfront', 'condition', 'floors'], axis = 1)\n",
    "data = pd.concat([data, condition_dummies, waterfront_dummies, floors_dummies], axis = 1)\n",
    "\n",
    "data.head()"
   ]
  },
  {
   "cell_type": "markdown",
   "metadata": {},
   "source": [
    "# REGRESSION"
   ]
  },
  {
   "cell_type": "markdown",
   "metadata": {},
   "source": [
    "We start by training and test splitting the data. We will use the 80:20 ratio, where we will train 80% of the data and test 20% of the data"
   ]
  },
  {
   "cell_type": "code",
   "execution_count": 94,
   "metadata": {},
   "outputs": [
    {
     "name": "stdout",
     "output_type": "stream",
     "text": [
      "17277 4320 17277 4320\n"
     ]
    }
   ],
   "source": [
    "#train test splitting the data 80:20. We have to set the random seed so that we make the dataset reproducible\n",
    "from sklearn.model_selection import train_test_split\n",
    "y = data['price']\n",
    "X = data.drop(['price'], axis  = 1)\n",
    "X_train, X_test, y_train, y_test = train_test_split(X, y,test_size = 0.2, random_state=10)\n",
    "print(len(X_train), len(X_test), len(y_train), len(y_test))"
   ]
  },
  {
   "cell_type": "markdown",
   "metadata": {},
   "source": [
    "The dataset has been split and we have 17277 values for the training dataset and 4320 for the testing dataset"
   ]
  },
  {
   "cell_type": "code",
   "execution_count": 95,
   "metadata": {},
   "outputs": [
    {
     "data": {
      "text/html": [
       "<table class=\"simpletable\">\n",
       "<caption>OLS Regression Results</caption>\n",
       "<tr>\n",
       "  <th>Dep. Variable:</th>          <td>price</td>      <th>  R-squared:         </th>  <td>   0.586</td>  \n",
       "</tr>\n",
       "<tr>\n",
       "  <th>Model:</th>                   <td>OLS</td>       <th>  Adj. R-squared:    </th>  <td>   0.585</td>  \n",
       "</tr>\n",
       "<tr>\n",
       "  <th>Method:</th>             <td>Least Squares</td>  <th>  F-statistic:       </th>  <td>   2712.</td>  \n",
       "</tr>\n",
       "<tr>\n",
       "  <th>Date:</th>             <td>Wed, 06 Jul 2022</td> <th>  Prob (F-statistic):</th>   <td>  0.00</td>   \n",
       "</tr>\n",
       "<tr>\n",
       "  <th>Time:</th>                 <td>15:49:13</td>     <th>  Log-Likelihood:    </th> <td>-2.3829e+05</td>\n",
       "</tr>\n",
       "<tr>\n",
       "  <th>No. Observations:</th>      <td> 17277</td>      <th>  AIC:               </th>  <td>4.766e+05</td> \n",
       "</tr>\n",
       "<tr>\n",
       "  <th>Df Residuals:</th>          <td> 17267</td>      <th>  BIC:               </th>  <td>4.767e+05</td> \n",
       "</tr>\n",
       "<tr>\n",
       "  <th>Df Model:</th>              <td>     9</td>      <th>                     </th>      <td> </td>     \n",
       "</tr>\n",
       "<tr>\n",
       "  <th>Covariance Type:</th>      <td>nonrobust</td>    <th>                     </th>      <td> </td>     \n",
       "</tr>\n",
       "</table>\n",
       "<table class=\"simpletable\">\n",
       "<tr>\n",
       "       <td></td>          <th>coef</th>     <th>std err</th>      <th>t</th>      <th>P>|t|</th>  <th>[0.025</th>    <th>0.975]</th>  \n",
       "</tr>\n",
       "<tr>\n",
       "  <th>const</th>       <td> 5.856e+06</td> <td> 1.56e+05</td> <td>   37.450</td> <td> 0.000</td> <td> 5.55e+06</td> <td> 6.16e+06</td>\n",
       "</tr>\n",
       "<tr>\n",
       "  <th>id</th>          <td>-4.691e-07</td> <td> 6.31e-07</td> <td>   -0.744</td> <td> 0.457</td> <td>-1.71e-06</td> <td> 7.67e-07</td>\n",
       "</tr>\n",
       "<tr>\n",
       "  <th>bedrooms</th>    <td>-6.117e+04</td> <td> 2425.473</td> <td>  -25.218</td> <td> 0.000</td> <td>-6.59e+04</td> <td>-5.64e+04</td>\n",
       "</tr>\n",
       "<tr>\n",
       "  <th>bathrooms</th>   <td> 6.175e+04</td> <td> 4167.941</td> <td>   14.816</td> <td> 0.000</td> <td> 5.36e+04</td> <td> 6.99e+04</td>\n",
       "</tr>\n",
       "<tr>\n",
       "  <th>sqft_living</th> <td>  291.7931</td> <td>    3.247</td> <td>   89.854</td> <td> 0.000</td> <td>  285.428</td> <td>  298.158</td>\n",
       "</tr>\n",
       "<tr>\n",
       "  <th>sqft_lot</th>    <td>   -0.3030</td> <td>    0.044</td> <td>   -6.874</td> <td> 0.000</td> <td>   -0.389</td> <td>   -0.217</td>\n",
       "</tr>\n",
       "<tr>\n",
       "  <th>floors</th>      <td> 5.666e+04</td> <td> 4130.211</td> <td>   13.719</td> <td> 0.000</td> <td> 4.86e+04</td> <td> 6.48e+04</td>\n",
       "</tr>\n",
       "<tr>\n",
       "  <th>waterfront</th>  <td> 8.168e+05</td> <td>  2.2e+04</td> <td>   37.132</td> <td> 0.000</td> <td> 7.74e+05</td> <td>  8.6e+05</td>\n",
       "</tr>\n",
       "<tr>\n",
       "  <th>condition</th>   <td> 1.732e+04</td> <td> 3014.249</td> <td>    5.748</td> <td> 0.000</td> <td> 1.14e+04</td> <td> 2.32e+04</td>\n",
       "</tr>\n",
       "<tr>\n",
       "  <th>yr_built</th>    <td>-3038.8902</td> <td>   79.297</td> <td>  -38.323</td> <td> 0.000</td> <td>-3194.321</td> <td>-2883.460</td>\n",
       "</tr>\n",
       "</table>\n",
       "<table class=\"simpletable\">\n",
       "<tr>\n",
       "  <th>Omnibus:</th>       <td>10287.300</td> <th>  Durbin-Watson:     </th>  <td>   2.002</td> \n",
       "</tr>\n",
       "<tr>\n",
       "  <th>Prob(Omnibus):</th>  <td> 0.000</td>   <th>  Jarque-Bera (JB):  </th> <td>320656.997</td>\n",
       "</tr>\n",
       "<tr>\n",
       "  <th>Skew:</th>           <td> 2.329</td>   <th>  Prob(JB):          </th>  <td>    0.00</td> \n",
       "</tr>\n",
       "<tr>\n",
       "  <th>Kurtosis:</th>       <td>23.585</td>   <th>  Cond. No.          </th>  <td>4.70e+11</td> \n",
       "</tr>\n",
       "</table><br/><br/>Notes:<br/>[1] Standard Errors assume that the covariance matrix of the errors is correctly specified.<br/>[2] The condition number is large, 4.7e+11. This might indicate that there are<br/>strong multicollinearity or other numerical problems."
      ],
      "text/plain": [
       "<class 'statsmodels.iolib.summary.Summary'>\n",
       "\"\"\"\n",
       "                            OLS Regression Results                            \n",
       "==============================================================================\n",
       "Dep. Variable:                  price   R-squared:                       0.586\n",
       "Model:                            OLS   Adj. R-squared:                  0.585\n",
       "Method:                 Least Squares   F-statistic:                     2712.\n",
       "Date:                Wed, 06 Jul 2022   Prob (F-statistic):               0.00\n",
       "Time:                        15:49:13   Log-Likelihood:            -2.3829e+05\n",
       "No. Observations:               17277   AIC:                         4.766e+05\n",
       "Df Residuals:                   17267   BIC:                         4.767e+05\n",
       "Df Model:                           9                                         \n",
       "Covariance Type:            nonrobust                                         \n",
       "===============================================================================\n",
       "                  coef    std err          t      P>|t|      [0.025      0.975]\n",
       "-------------------------------------------------------------------------------\n",
       "const        5.856e+06   1.56e+05     37.450      0.000    5.55e+06    6.16e+06\n",
       "id          -4.691e-07   6.31e-07     -0.744      0.457   -1.71e-06    7.67e-07\n",
       "bedrooms    -6.117e+04   2425.473    -25.218      0.000   -6.59e+04   -5.64e+04\n",
       "bathrooms    6.175e+04   4167.941     14.816      0.000    5.36e+04    6.99e+04\n",
       "sqft_living   291.7931      3.247     89.854      0.000     285.428     298.158\n",
       "sqft_lot       -0.3030      0.044     -6.874      0.000      -0.389      -0.217\n",
       "floors       5.666e+04   4130.211     13.719      0.000    4.86e+04    6.48e+04\n",
       "waterfront   8.168e+05    2.2e+04     37.132      0.000    7.74e+05     8.6e+05\n",
       "condition    1.732e+04   3014.249      5.748      0.000    1.14e+04    2.32e+04\n",
       "yr_built    -3038.8902     79.297    -38.323      0.000   -3194.321   -2883.460\n",
       "==============================================================================\n",
       "Omnibus:                    10287.300   Durbin-Watson:                   2.002\n",
       "Prob(Omnibus):                  0.000   Jarque-Bera (JB):           320656.997\n",
       "Skew:                           2.329   Prob(JB):                         0.00\n",
       "Kurtosis:                      23.585   Cond. No.                     4.70e+11\n",
       "==============================================================================\n",
       "\n",
       "Notes:\n",
       "[1] Standard Errors assume that the covariance matrix of the errors is correctly specified.\n",
       "[2] The condition number is large, 4.7e+11. This might indicate that there are\n",
       "strong multicollinearity or other numerical problems.\n",
       "\"\"\""
      ]
     },
     "execution_count": 95,
     "metadata": {},
     "output_type": "execute_result"
    }
   ],
   "source": [
    "#Creating the first model with OLS.\n",
    "import statsmodels.api as sm\n",
    "model = sm.OLS(y_train, sm.add_constant(X_train)).fit()\n",
    "model.summary()"
   ]
  },
  {
   "cell_type": "markdown",
   "metadata": {},
   "source": [
    "Results The coefficient of all the features demonstrates how each feature influences the price of a home. In a nutshell, the sqft living value for the size of the house was 291.7931, indicating that for every additional square foot of living space, the price of the home will rise by 291.7 dollars. The sqft lot and id, however, exhibited a negative correlation to the price of the home.We will go ahead and get rod of id column for the next model since it's pvalue has proven that it is not significant.\n",
    "The amount of bedrooms had negative correlation on the price of the home. The price of a home will rise overall if it has more bathrooms, floors, waterfront, and other desirable features. The cost of the home will increase by 816800 if it has waterfront."
   ]
  },
  {
   "cell_type": "code",
   "execution_count": 96,
   "metadata": {},
   "outputs": [
    {
     "data": {
      "image/png": "[encoded data removed]",
      "text/plain": [
       "<Figure size 720x360 with 1 Axes>"
      ]
     },
     "metadata": {
      "needs_background": "light"
     },
     "output_type": "display_data"
    }
   ],
   "source": [
    "#Plotting a qqplot to check if the residuals have a normal distribution\n",
    "residuals = model.resid\n",
    "fig = sm.graphics.qqplot(residuals, line='45', fit=True)\n",
    "fig.suptitle('Residuals QQ Plot', fontsize=16)\n",
    "fig.set_size_inches(10, 5)\n",
    "fig.show()"
   ]
  },
  {
   "cell_type": "markdown",
   "metadata": {},
   "source": [
    "We can observe that the residuals defy the assumption of normalcy by not being normal.\n",
    "We will now go ahead and look at our dependant variable to see if there are any problems we can fix."
   ]
  },
  {
   "cell_type": "code",
   "execution_count": 97,
   "metadata": {},
   "outputs": [
    {
     "data": {
      "image/png": "[encoded data removed]",
      "text/plain": [
       "<Figure size 720x720 with 1 Axes>"
      ]
     },
     "metadata": {
      "needs_background": "light"
     },
     "output_type": "display_data"
    }
   ],
   "source": [
    "#Getting the distribution of price column\n",
    "fig, ax = plt.subplots(figsize=(10,10))\n",
    "ax.hist(x=data['price'], bins='auto')\n",
    "ax.set_xscale('linear')\n",
    "fig.tight_layout()"
   ]
  },
  {
   "cell_type": "markdown",
   "metadata": {},
   "source": [
    "The price dataset is positively skewed as it is more on the left side"
   ]
  },
  {
   "cell_type": "code",
   "execution_count": 98,
   "metadata": {},
   "outputs": [
    {
     "name": "stdout",
     "output_type": "stream",
     "text": [
      "Percent removed: 0.0\n"
     ]
    }
   ],
   "source": [
    "orig_tot = len(data)\n",
    "data_red = data # Subsetting to remove extreme outliers\n",
    "print('Percent removed:', (orig_tot -len(data))/orig_tot)\n",
    "data_red.price = data.price.map(np.log) # Applying a log transformation\n",
    "train, test = train_test_split(data)"
   ]
  },
  {
   "cell_type": "code",
   "execution_count": 99,
   "metadata": {},
   "outputs": [
    {
     "data": {
      "image/png": "[encoded data removed]",
      "text/plain": [
       "<Figure size 720x720 with 1 Axes>"
      ]
     },
     "metadata": {
      "needs_background": "light"
     },
     "output_type": "display_data"
    }
   ],
   "source": [
    "#Recheck if we have got rid of the skewness\n",
    "fig, ax = plt.subplots(figsize=(10,10))\n",
    "ax.hist(x=data['price'], bins='auto')\n",
    "ax.set_xscale('linear')\n",
    "fig.tight_layout()"
   ]
  },
  {
   "cell_type": "markdown",
   "metadata": {},
   "source": [
    "The price data now has a normal distribution with veryy minute skewness."
   ]
  },
  {
   "cell_type": "code",
   "execution_count": 108,
   "metadata": {},
   "outputs": [
    {
     "data": {
      "text/html": [
       "<table class=\"simpletable\">\n",
       "<caption>OLS Regression Results</caption>\n",
       "<tr>\n",
       "  <th>Dep. Variable:</th>          <td>price</td>      <th>  R-squared:         </th> <td>   0.548</td> \n",
       "</tr>\n",
       "<tr>\n",
       "  <th>Model:</th>                   <td>OLS</td>       <th>  Adj. R-squared:    </th> <td>   0.548</td> \n",
       "</tr>\n",
       "<tr>\n",
       "  <th>Method:</th>             <td>Least Squares</td>  <th>  F-statistic:       </th> <td>   2451.</td> \n",
       "</tr>\n",
       "<tr>\n",
       "  <th>Date:</th>             <td>Wed, 06 Jul 2022</td> <th>  Prob (F-statistic):</th>  <td>  0.00</td>  \n",
       "</tr>\n",
       "<tr>\n",
       "  <th>Time:</th>                 <td>16:14:13</td>     <th>  Log-Likelihood:    </th> <td> -6103.2</td> \n",
       "</tr>\n",
       "<tr>\n",
       "  <th>No. Observations:</th>      <td> 16197</td>      <th>  AIC:               </th> <td>1.222e+04</td>\n",
       "</tr>\n",
       "<tr>\n",
       "  <th>Df Residuals:</th>          <td> 16188</td>      <th>  BIC:               </th> <td>1.229e+04</td>\n",
       "</tr>\n",
       "<tr>\n",
       "  <th>Df Model:</th>              <td>     8</td>      <th>                     </th>     <td> </td>    \n",
       "</tr>\n",
       "<tr>\n",
       "  <th>Covariance Type:</th>      <td>nonrobust</td>    <th>                     </th>     <td> </td>    \n",
       "</tr>\n",
       "</table>\n",
       "<table class=\"simpletable\">\n",
       "<tr>\n",
       "       <td></td>          <th>coef</th>     <th>std err</th>      <th>t</th>      <th>P>|t|</th>  <th>[0.025</th>    <th>0.975]</th>  \n",
       "</tr>\n",
       "<tr>\n",
       "  <th>const</th>       <td>   20.6170</td> <td>    0.241</td> <td>   85.480</td> <td> 0.000</td> <td>   20.144</td> <td>   21.090</td>\n",
       "</tr>\n",
       "<tr>\n",
       "  <th>bedrooms</th>    <td>   -0.0591</td> <td>    0.004</td> <td>  -15.893</td> <td> 0.000</td> <td>   -0.066</td> <td>   -0.052</td>\n",
       "</tr>\n",
       "<tr>\n",
       "  <th>bathrooms</th>   <td>    0.1109</td> <td>    0.006</td> <td>   17.213</td> <td> 0.000</td> <td>    0.098</td> <td>    0.124</td>\n",
       "</tr>\n",
       "<tr>\n",
       "  <th>sqft_living</th> <td>    0.0004</td> <td> 5.03e-06</td> <td>   74.805</td> <td> 0.000</td> <td>    0.000</td> <td>    0.000</td>\n",
       "</tr>\n",
       "<tr>\n",
       "  <th>sqft_lot</th>    <td>-1.399e-07</td> <td> 6.98e-08</td> <td>   -2.005</td> <td> 0.045</td> <td>-2.77e-07</td> <td>-3.16e-09</td>\n",
       "</tr>\n",
       "<tr>\n",
       "  <th>floors</th>      <td>    0.1438</td> <td>    0.006</td> <td>   22.660</td> <td> 0.000</td> <td>    0.131</td> <td>    0.156</td>\n",
       "</tr>\n",
       "<tr>\n",
       "  <th>waterfront</th>  <td>    0.5268</td> <td>    0.035</td> <td>   15.246</td> <td> 0.000</td> <td>    0.459</td> <td>    0.595</td>\n",
       "</tr>\n",
       "<tr>\n",
       "  <th>condition</th>   <td>    0.0431</td> <td>    0.005</td> <td>    9.292</td> <td> 0.000</td> <td>    0.034</td> <td>    0.052</td>\n",
       "</tr>\n",
       "<tr>\n",
       "  <th>yr_built</th>    <td>   -0.0044</td> <td>    0.000</td> <td>  -36.278</td> <td> 0.000</td> <td>   -0.005</td> <td>   -0.004</td>\n",
       "</tr>\n",
       "</table>\n",
       "<table class=\"simpletable\">\n",
       "<tr>\n",
       "  <th>Omnibus:</th>       <td>58.062</td> <th>  Durbin-Watson:     </th> <td>   1.993</td>\n",
       "</tr>\n",
       "<tr>\n",
       "  <th>Prob(Omnibus):</th> <td> 0.000</td> <th>  Jarque-Bera (JB):  </th> <td>  64.320</td>\n",
       "</tr>\n",
       "<tr>\n",
       "  <th>Skew:</th>          <td>-0.106</td> <th>  Prob(JB):          </th> <td>1.08e-14</td>\n",
       "</tr>\n",
       "<tr>\n",
       "  <th>Kurtosis:</th>      <td> 3.225</td> <th>  Cond. No.          </th> <td>3.77e+06</td>\n",
       "</tr>\n",
       "</table><br/><br/>Notes:<br/>[1] Standard Errors assume that the covariance matrix of the errors is correctly specified.<br/>[2] The condition number is large, 3.77e+06. This might indicate that there are<br/>strong multicollinearity or other numerical problems."
      ],
      "text/plain": [
       "<class 'statsmodels.iolib.summary.Summary'>\n",
       "\"\"\"\n",
       "                            OLS Regression Results                            \n",
       "==============================================================================\n",
       "Dep. Variable:                  price   R-squared:                       0.548\n",
       "Model:                            OLS   Adj. R-squared:                  0.548\n",
       "Method:                 Least Squares   F-statistic:                     2451.\n",
       "Date:                Wed, 06 Jul 2022   Prob (F-statistic):               0.00\n",
       "Time:                        16:14:13   Log-Likelihood:                -6103.2\n",
       "No. Observations:               16197   AIC:                         1.222e+04\n",
       "Df Residuals:                   16188   BIC:                         1.229e+04\n",
       "Df Model:                           8                                         \n",
       "Covariance Type:            nonrobust                                         \n",
       "===============================================================================\n",
       "                  coef    std err          t      P>|t|      [0.025      0.975]\n",
       "-------------------------------------------------------------------------------\n",
       "const          20.6170      0.241     85.480      0.000      20.144      21.090\n",
       "bedrooms       -0.0591      0.004    -15.893      0.000      -0.066      -0.052\n",
       "bathrooms       0.1109      0.006     17.213      0.000       0.098       0.124\n",
       "sqft_living     0.0004   5.03e-06     74.805      0.000       0.000       0.000\n",
       "sqft_lot    -1.399e-07   6.98e-08     -2.005      0.045   -2.77e-07   -3.16e-09\n",
       "floors          0.1438      0.006     22.660      0.000       0.131       0.156\n",
       "waterfront      0.5268      0.035     15.246      0.000       0.459       0.595\n",
       "condition       0.0431      0.005      9.292      0.000       0.034       0.052\n",
       "yr_built       -0.0044      0.000    -36.278      0.000      -0.005      -0.004\n",
       "==============================================================================\n",
       "Omnibus:                       58.062   Durbin-Watson:                   1.993\n",
       "Prob(Omnibus):                  0.000   Jarque-Bera (JB):               64.320\n",
       "Skew:                          -0.106   Prob(JB):                     1.08e-14\n",
       "Kurtosis:                       3.225   Cond. No.                     3.77e+06\n",
       "==============================================================================\n",
       "\n",
       "Notes:\n",
       "[1] Standard Errors assume that the covariance matrix of the errors is correctly specified.\n",
       "[2] The condition number is large, 3.77e+06. This might indicate that there are\n",
       "strong multicollinearity or other numerical problems.\n",
       "\"\"\""
      ]
     },
     "execution_count": 108,
     "metadata": {},
     "output_type": "execute_result"
    }
   ],
   "source": [
    "#running the model again exclusive of id which didn't have any impact on the dataset\n",
    "X_train.drop(['id'], axis = 1, inplace = True)\n",
    "import statsmodels.api as sm\n",
    "model = sm.OLS(y_train, sm.add_constant(X_train)).fit()\n",
    "model.summary()"
   ]
  },
  {
   "cell_type": "markdown",
   "metadata": {},
   "source": [
    "The value for Rsquared now is at 0.548"
   ]
  },
  {
   "cell_type": "code",
   "execution_count": 104,
   "metadata": {},
   "outputs": [
    {
     "data": {
      "image/png": "[encoded data removed]",
      "text/plain": [
       "<Figure size 720x360 with 1 Axes>"
      ]
     },
     "metadata": {
      "needs_background": "light"
     },
     "output_type": "display_data"
    }
   ],
   "source": [
    "#Checking the distribution of the residuals using a qqplot\n",
    "residuals1 = model1.resid\n",
    "fig = sm.graphics.qqplot(residuals1, line='45', fit=True)\n",
    "fig.suptitle('Residuals QQ Plot', fontsize=16)\n",
    "fig.set_size_inches(10, 5)\n",
    "fig.show()"
   ]
  },
  {
   "cell_type": "markdown",
   "metadata": {},
   "source": [
    "The residuals now follow the normality assumption"
   ]
  },
  {
   "cell_type": "markdown",
   "metadata": {},
   "source": [
    "# Model Validation"
   ]
  },
  {
   "cell_type": "markdown",
   "metadata": {},
   "source": [
    "Model validation refers to the process of confirming that the model actually achieves its intended purpose. We will have a look at this by considering the mean squared error."
   ]
  },
  {
   "cell_type": "code",
   "execution_count": 105,
   "metadata": {},
   "outputs": [
    {
     "name": "stdout",
     "output_type": "stream",
     "text": [
      "Train Mean Squared Error: 0.12437533533132163\n",
      "Test Mean Squared Error: 0.12568508002731016\n"
     ]
    }
   ],
   "source": [
    "from sklearn.metrics import mean_squared_error\n",
    "from sklearn.linear_model import LinearRegression\n",
    "\n",
    "X = data.drop([\"price\"], axis=1)\n",
    "y = data['price']\n",
    "X_train, X_test, y_train, y_test = train_test_split(X, y)\n",
    "\n",
    "linreg = LinearRegression()\n",
    "linreg.fit(X_train, y_train)\n",
    "\n",
    "y_hat_train = linreg.predict(X_train)\n",
    "y_hat_test = linreg.predict(X_test)\n",
    "\n",
    "train_residuals = y_hat_train - y_train\n",
    "test_residuals = y_hat_test - y_test\n",
    "\n",
    "train_mse = mean_squared_error(y_train, y_hat_train)\n",
    "test_mse = mean_squared_error(y_test, y_hat_test)\n",
    "print('Train Mean Squared Error:', train_mse)\n",
    "print('Test Mean Squared Error:', test_mse)"
   ]
  },
  {
   "cell_type": "markdown",
   "metadata": {},
   "source": [
    "We have not overfitted our model because there is not a significant difference between Train Mean Squared Error and Test Mean Squared Error, hence everything is fine. This implies that our model will function similarly on various sets of data."
   ]
  },
  {
   "cell_type": "markdown",
   "metadata": {},
   "source": [
    "# Conclusion and Recommendation"
   ]
  },
  {
   "cell_type": "markdown",
   "metadata": {},
   "source": [
    "The coefficient of all the attributes shows how each attribute affects a home's price. In other words, the sqft living value for the size of the house was 291.7931, which means that the price of the home will increase by 291.7 dollars for every additional square foot of living space. However, the sqft lot and id showed a negative correlation to the cost of the house. Given that the pvalue of the id column has shown that it is not important.\n",
    "The number of bedrooms was negatively correlated with the home's price.\n",
    "If a house has additional bathrooms, floors, a beachfront, and other desirable features, its overall price will go up. If the residence has waterfront, the price will rise by 816800.\n",
    "Our algorithm offers the seller some recommendations on how to raise the potential selling price. For instance, they could try to renovate the home, add a water view if they can, and increase the number of floors and bathrooms."
   ]
  }
 ],
 "metadata": {
  "kernelspec": {
   "display_name": "Python (learn-env)",
   "language": "python",
   "name": "learn-env"
  },
  "language_info": {
   "codemirror_mode": {
    "name": "ipython",
    "version": 3
   },
   "file_extension": ".py",
   "mimetype": "text/x-python",
   "name": "python",
   "nbconvert_exporter": "python",
   "pygments_lexer": "ipython3",
   "version": "3.8.5"
  }
 },
 "nbformat": 4,
 "nbformat_minor": 4
}
